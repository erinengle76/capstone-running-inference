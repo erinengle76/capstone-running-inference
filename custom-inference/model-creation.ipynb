{
 "cells": [
  {
   "cell_type": "code",
   "execution_count": null,
   "id": "0a5d644b-727e-498d-9ef1-ea819027cf77",
   "metadata": {},
   "outputs": [],
   "source": [
    "import boto3\n",
    "import json\n",
    "import base64"
   ]
  },
  {
   "cell_type": "code",
   "execution_count": null,
   "id": "4f9fc662-e144-485a-9872-dd02e959d781",
   "metadata": {},
   "outputs": [],
   "source": [
    "sagemaker = boto3.client('sagemaker')\n",
    "\n",
    "# Ensure to modify the model name, model url and role arn to match your sagemaker instance\n",
    "model_name = \"MODEL-NAME\"\n",
    "model_url = \"https://<INSERT-YOUR-BUCKET-NAME>.s3.amazonaws.com/<INSERT-YOUR-TAR-NAME>.tar.gz\"  # S3 URL to your model artifact - Found in S3\n",
    "role_arn = \"arn:aws:iam::<INSERT-AWS-ID>:role/service-role/<APPROPRIATE-SAGEMAKER-ROLE>\"  # Your SageMaker IAM role ARN found in the Sagemaker Dashboard\n",
    "\n",
    "# instantiate the deep learning container hosting both Hugging Face transformers and PyTorch - you can choose a model here\n",
    "# https://github.com/aws/deep-learning-containers/blob/master/available_images.md\n",
    "container = {\n",
    "    'Image': '763104351884.dkr.ecr.us-east-1.amazonaws.com/huggingface-pytorch-inference:2.1.0-transformers4.37.0-cpu-py310-ubuntu22.04',  \n",
    "    'ModelDataUrl': model_url\n",
    "}\n",
    "\n",
    "create_model_response = sagemaker.create_model(\n",
    "    ModelName=model_name,\n",
    "    ExecutionRoleArn=role_arn,\n",
    "    PrimaryContainer=container\n",
    ")\n",
    "\n",
    "print(create_model_response)"
   ]
  },
  {
   "cell_type": "code",
   "execution_count": null,
   "id": "063bba55-57a6-431f-8fb8-548a226672a3",
   "metadata": {},
   "outputs": [],
   "source": [
    "endpoint_config_name = \"ENDPOINT-CONFIG-NAME\"\n",
    "\n",
    "create_endpoint_config_response = sagemaker.create_endpoint_config(\n",
    "    EndpointConfigName=endpoint_config_name,\n",
    "    ProductionVariants=[\n",
    "        {\n",
    "            'VariantName': 'AllTraffic',\n",
    "            'ModelName': model_name,\n",
    "            'InitialInstanceCount': 1,\n",
    "            'InstanceType': 'ml.m5.large',  # Choose the instance type based on your needs\n",
    "            'InitialVariantWeight': 1\n",
    "        },\n",
    "    ]\n",
    ")\n",
    "\n",
    "# This will be used within lambda to access your endpoint accordingly\n",
    "endpoint_name = \"ENDPOINT-NAME\"\n",
    "create_endpoint_response = sagemaker.create_endpoint(\n",
    "    EndpointName=endpoint_name,\n",
    "    EndpointConfigName=endpoint_config_name\n",
    ")\n",
    "\n",
    "print(create_endpoint_response)"
   ]
  },
  {
   "cell_type": "code",
   "execution_count": null,
   "id": "a0453f13-451e-43f5-8fee-d9e1fb8eed21",
   "metadata": {},
   "outputs": [],
   "source": [
    "# Opening a local jpg file - must be stored in JupyterLab instance located on the lefthand side of the console\n",
    "with open(\"<INSERT-TEST-IMAGE-NAME>.jpg\", \"rb\") as f:\n",
    "    # reading as bytes\n",
    "    image = f.read()\n",
    "\n",
    "# Content type to be sent with API call\n",
    "content_type = 'image/jpg'"
   ]
  },
  {
   "cell_type": "code",
   "execution_count": null,
   "id": "c7597667-7f17-4aac-9680-ba8b8e2b3872",
   "metadata": {},
   "outputs": [],
   "source": [
    "# Test Endpoint - This can be tested before accessing the endpoint from anywhere else\n",
    "\n",
    "sagemaker_runtime = boto3.client('sagemaker-runtime')\n",
    "\n",
    "response = sagemaker_runtime.invoke_endpoint(\n",
    "    EndpointName=endpoint_name,\n",
    "    ContentType=content_type,\n",
    "    Body=image\n",
    ")"
   ]
  },
  {
   "cell_type": "code",
   "execution_count": null,
   "id": "2524aac4-131a-4b97-bc31-4d8b81f4d48d",
   "metadata": {},
   "outputs": [],
   "source": [
    "# Decode and print the response\n",
    "result = json.loads(response['Body'].read().decode())\n",
    "print(result)"
   ]
  }
 ],
 "metadata": {
  "kernelspec": {
   "display_name": "Python 3 (ipykernel)",
   "language": "python",
   "name": "python3"
  },
  "language_info": {
   "codemirror_mode": {
    "name": "ipython",
    "version": 3
   },
   "file_extension": ".py",
   "mimetype": "text/x-python",
   "name": "python",
   "nbconvert_exporter": "python",
   "pygments_lexer": "ipython3",
   "version": "3.10.14"
  }
 },
 "nbformat": 4,
 "nbformat_minor": 5
}
